{
  "nbformat": 4,
  "nbformat_minor": 0,
  "metadata": {
    "colab": {
      "name": "ANN_Regression_One.ipynb",
      "provenance": [],
      "collapsed_sections": [],
      "toc_visible": true,
      "mount_file_id": "1eNYlAdKbe7feIkYQVsSgVoQFfcKPc2nj",
      "authorship_tag": "ABX9TyNfuAcKJ2XZu6YPoOF+BwTF",
      "include_colab_link": true
    },
    "kernelspec": {
      "name": "python3",
      "display_name": "Python 3"
    }
  },
  "cells": [
    {
      "cell_type": "markdown",
      "metadata": {
        "id": "view-in-github",
        "colab_type": "text"
      },
      "source": [
        "<a href=\"https://colab.research.google.com/github/Jahadul-Rakib/Deep-Learning/blob/main/ANN_Regression_One.ipynb\" target=\"_parent\"><img src=\"https://colab.research.google.com/assets/colab-badge.svg\" alt=\"Open In Colab\"/></a>"
      ]
    },
    {
      "cell_type": "code",
      "metadata": {
        "id": "KDpvtICFtwAg"
      },
      "source": [
        "import pandas as pd\n",
        "from sklearn.model_selection import train_test_split\n",
        "from sklearn.preprocessing import MinMaxScaler\n",
        "from keras.models import Sequential\n",
        "from keras.layers import Dense\n",
        "from keras.models import load_model"
      ],
      "execution_count": null,
      "outputs": []
    },
    {
      "cell_type": "code",
      "metadata": {
        "id": "VmVKXh_htv-g"
      },
      "source": [
        "dataset = pd.read_csv(\"/content/drive/MyDrive/Colab Notebooks/Data/diabetes.csv\")"
      ],
      "execution_count": null,
      "outputs": []
    },
    {
      "cell_type": "code",
      "metadata": {
        "id": "9G4Gdasftv8y"
      },
      "source": [
        "x = dataset.drop('Outcome', axis=1)\n",
        "y = dataset['Outcome']\n",
        "\n",
        "x_train, x_test, y_train, y_test = train_test_split(x, y, test_size=0.2, random_state=30)"
      ],
      "execution_count": null,
      "outputs": []
    },
    {
      "cell_type": "code",
      "metadata": {
        "id": "mN9tbADttv5Z"
      },
      "source": [
        "# Transform value range between 0 and 1\n",
        "scaler = MinMaxScaler()\n",
        "scaler.fit(x_train)\n",
        "scaler.transform(x_train)\n",
        "scaler.transform(x_test)\n",
        "\n",
        "model = Sequential()\n",
        "model.add(Dense(8, activation='relu'))\n",
        "model.add(Dense(4, activation='relu'))\n",
        "model.add(Dense(2, activation='relu'))\n",
        "model.add(Dense(1))\n",
        "model.compile(optimizer='rmsprop', loss='binary_crossentropy', metrics=['accuracy'])\n",
        "model.fit(x_train, y_train, epochs=150)\n",
        "\n",
        "model.save('load.h5')"
      ],
      "execution_count": null,
      "outputs": []
    },
    {
      "cell_type": "code",
      "metadata": {
        "id": "QtG_SaiVtv2y"
      },
      "source": [
        "loss_history = pd.DataFrame(model.history.history)\n",
        "loss_history.plot()"
      ],
      "execution_count": null,
      "outputs": []
    },
    {
      "cell_type": "code",
      "metadata": {
        "id": "OldxDwPEtvuj"
      },
      "source": [
        "loss = model.evaluate(x_test, y_test, verbose=0)\n",
        "loss"
      ],
      "execution_count": null,
      "outputs": []
    },
    {
      "cell_type": "code",
      "metadata": {
        "id": "SuV2DH-5tvf6"
      },
      "source": [
        "loaded_model = load_model('load.h5')\n",
        "result = loaded_model.predict([[7,62,78,0,0,32.6,0.391,41]])\n",
        "result"
      ],
      "execution_count": null,
      "outputs": []
    }
  ]
}