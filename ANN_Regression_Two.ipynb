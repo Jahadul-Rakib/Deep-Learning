{
  "nbformat": 4,
  "nbformat_minor": 0,
  "metadata": {
    "colab": {
      "name": "ANN_Regression_Two.ipynb",
      "provenance": [],
      "collapsed_sections": [],
      "mount_file_id": "1EDJ7j4p8tOOixoACjnT0GdeQb8VZr8sn",
      "authorship_tag": "ABX9TyNqTB13v7c+ZDb614l9HWNj",
      "include_colab_link": true
    },
    "kernelspec": {
      "name": "python3",
      "display_name": "Python 3"
    }
  },
  "cells": [
    {
      "cell_type": "markdown",
      "metadata": {
        "id": "view-in-github",
        "colab_type": "text"
      },
      "source": [
        "<a href=\"https://colab.research.google.com/github/Jahadul-Rakib/Deep-Learning/blob/main/ANN_Regression_Two.ipynb\" target=\"_parent\"><img src=\"https://colab.research.google.com/assets/colab-badge.svg\" alt=\"Open In Colab\"/></a>"
      ]
    },
    {
      "cell_type": "code",
      "metadata": {
        "id": "7r4OebvO1P3V"
      },
      "source": [
        "import pandas as pd\n",
        "import numpy as np\n",
        "import seaborn as sbn\n",
        "import matplotlib.pyplot as plt"
      ],
      "execution_count": 10,
      "outputs": []
    },
    {
      "cell_type": "code",
      "metadata": {
        "id": "W_q8oS7H1t4Q"
      },
      "source": [
        "data = pd.read_csv('/content/drive/MyDrive/Colab Notebooks/Data/kc_house_data.csv')"
      ],
      "execution_count": 6,
      "outputs": []
    },
    {
      "cell_type": "code",
      "metadata": {
        "id": "B_gCpFvS2ByF"
      },
      "source": [
        "data.set_index('id', inplace=True)\n",
        "data.head()"
      ],
      "execution_count": null,
      "outputs": []
    },
    {
      "cell_type": "code",
      "metadata": {
        "id": "cWxtyQ_o3ToY"
      },
      "source": [
        "data.shape"
      ],
      "execution_count": null,
      "outputs": []
    }
  ]
}