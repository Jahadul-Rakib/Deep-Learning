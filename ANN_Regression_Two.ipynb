{
  "nbformat": 4,
  "nbformat_minor": 0,
  "metadata": {
    "colab": {
      "name": "ANN_Regression_Two.ipynb",
      "provenance": [],
      "collapsed_sections": [],
      "mount_file_id": "1EDJ7j4p8tOOixoACjnT0GdeQb8VZr8sn",
      "authorship_tag": "ABX9TyM9uY9yASU0XNhSeopshFvK",
      "include_colab_link": true
    },
    "kernelspec": {
      "name": "python3",
      "display_name": "Python 3"
    }
  },
  "cells": [
    {
      "cell_type": "markdown",
      "metadata": {
        "id": "view-in-github",
        "colab_type": "text"
      },
      "source": [
        "<a href=\"https://colab.research.google.com/github/Jahadul-Rakib/Deep-Learning/blob/main/ANN_Regression_Two.ipynb\" target=\"_parent\"><img src=\"https://colab.research.google.com/assets/colab-badge.svg\" alt=\"Open In Colab\"/></a>"
      ]
    },
    {
      "cell_type": "code",
      "metadata": {
        "id": "7r4OebvO1P3V"
      },
      "source": [
        "import pandas as pd\n",
        "import numpy as np\n",
        "import seaborn as sbn\n",
        "import matplotlib.pyplot as plt\n",
        "from sklearn.model_selection import train_test_split"
      ],
      "execution_count": 67,
      "outputs": []
    },
    {
      "cell_type": "code",
      "metadata": {
        "id": "W_q8oS7H1t4Q"
      },
      "source": [
        "data = pd.read_csv('/content/drive/MyDrive/Colab Notebooks/Data/kc_house_data.csv')\n",
        "data.info()"
      ],
      "execution_count": null,
      "outputs": []
    },
    {
      "cell_type": "code",
      "metadata": {
        "id": "B_gCpFvS2ByF"
      },
      "source": [
        "data.set_index('id', inplace=True)\n",
        "data.drop('yr_built',axis=1, inplace=True)\n",
        "data.drop('yr_renovated',axis=1, inplace=True)\n",
        "data.drop('date', axis=1, inplace=True)"
      ],
      "execution_count": 69,
      "outputs": []
    },
    {
      "cell_type": "code",
      "metadata": {
        "id": "U-gCHiFVUW5O"
      },
      "source": [
        "data.describe().transpose()"
      ],
      "execution_count": null,
      "outputs": []
    },
    {
      "cell_type": "code",
      "metadata": {
        "id": "7KiA2JjYUse4"
      },
      "source": [
        "sbn.scatterplot(x = 'price', y = 'sqft_living', data = data)"
      ],
      "execution_count": null,
      "outputs": []
    },
    {
      "cell_type": "code",
      "metadata": {
        "id": "ltctLBKwVjny"
      },
      "source": [
        "x = data.drop('price', axis=1).values\n",
        "y = data['price'].values"
      ],
      "execution_count": 72,
      "outputs": []
    },
    {
      "cell_type": "code",
      "metadata": {
        "id": "wwqu4xOCVjj9"
      },
      "source": [
        "x_train,x_test,y_train,y_test = train_test_split(x,y, test_size = 0.2, random_state = 101)"
      ],
      "execution_count": 73,
      "outputs": []
    },
    {
      "cell_type": "code",
      "metadata": {
        "id": "cgtY-C6kVja0"
      },
      "source": [
        "from sklearn.preprocessing import MinMaxScaler\n",
        "from keras.models import Sequential\n",
        "from keras.layers import Dense\n",
        "from keras.models import load_model"
      ],
      "execution_count": 80,
      "outputs": []
    },
    {
      "cell_type": "code",
      "metadata": {
        "id": "fGzIuDwkVjTV"
      },
      "source": [
        "scaller = MinMaxScaler(feature_range=(-1, 1))\n",
        "x_train = scaller.fit_transform(x_train)\n",
        "x_test = scaller.fit_transform(x_test)"
      ],
      "execution_count": 75,
      "outputs": []
    },
    {
      "cell_type": "code",
      "metadata": {
        "colab": {
          "base_uri": "https://localhost:8080/"
        },
        "id": "gWxdI47Cek_Y",
        "outputId": "2f15bbe4-829d-4d28-85e1-e45b375c4f7b"
      },
      "source": [
        "x_train.shape"
      ],
      "execution_count": 76,
      "outputs": [
        {
          "output_type": "execute_result",
          "data": {
            "text/plain": [
              "(17290, 16)"
            ]
          },
          "metadata": {
            "tags": []
          },
          "execution_count": 76
        }
      ]
    },
    {
      "cell_type": "code",
      "metadata": {
        "id": "EX4yxSaLep_1"
      },
      "source": [
        "model = Sequential()\n",
        "model.add(Dense(19, activation = 'relu'))\n",
        "model.add(Dense(19, activation = 'relu'))\n",
        "model.add(Dense(19, activation = 'relu'))\n",
        "model.add(Dense(19, activation = 'relu'))\n",
        "model.add(Dense(19, activation = 'relu'))\n",
        "model.add(Dense(1))\n",
        "model.compile(optimizer='adam', loss ='mse')"
      ],
      "execution_count": 77,
      "outputs": []
    },
    {
      "cell_type": "code",
      "metadata": {
        "id": "hNw2sp5ogAOj"
      },
      "source": [
        "model.fit(x_train,\n",
        "          y_train, \n",
        "          validation_data=(x_test,y_test),\n",
        "          batch_size = 128,\n",
        "          epochs=400)"
      ],
      "execution_count": null,
      "outputs": []
    },
    {
      "cell_type": "code",
      "metadata": {
        "id": "DBznEurvX92O"
      },
      "source": [
        "model.save('model.h5')"
      ],
      "execution_count": 79,
      "outputs": []
    },
    {
      "cell_type": "code",
      "metadata": {
        "id": "pknaoV3jYxIc"
      },
      "source": [
        "loded_model = load_model('model.h5')"
      ],
      "execution_count": 81,
      "outputs": []
    }
  ]
}